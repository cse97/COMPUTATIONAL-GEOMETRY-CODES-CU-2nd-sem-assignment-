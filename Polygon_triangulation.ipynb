{
  "nbformat": 4,
  "nbformat_minor": 0,
  "metadata": {
    "colab": {
      "name": "Polygon triangulation.ipynb",
      "provenance": [],
      "authorship_tag": "ABX9TyNq1QQg+qFZW9kTpqFauEFC",
      "include_colab_link": true
    },
    "kernelspec": {
      "name": "python3",
      "display_name": "Python 3"
    }
  },
  "cells": [
    {
      "cell_type": "markdown",
      "metadata": {
        "id": "view-in-github",
        "colab_type": "text"
      },
      "source": [
        "<a href=\"https://colab.research.google.com/github/cse97/COMPUTATIONAL-GEOMETRY-CODES-CU-2nd-sem-assignment-/blob/main/Polygon_triangulation.ipynb\" target=\"_parent\"><img src=\"https://colab.research.google.com/assets/colab-badge.svg\" alt=\"Open In Colab\"/></a>"
      ]
    },
    {
      "cell_type": "code",
      "metadata": {
        "colab": {
          "base_uri": "https://localhost:8080/"
        },
        "id": "jHb7bUTs8sw1",
        "outputId": "4be91b88-da95-40cd-9a43-3641034ed9aa"
      },
      "source": [
        "from math import sqrt \n",
        "MAX = 1000000.0\n",
        "  \n",
        "# A utility function to find distance \n",
        "# between two points in a plane \n",
        "def dist(p1, p2): \n",
        "    return sqrt((p1[0] - p2[0])*(p1[0] - p2[0]) +  \n",
        "                (p1[1] - p2[1])*(p1[1] - p2[1])) \n",
        "  \n",
        "# A utility function to find cost of  \n",
        "# a triangle. The cost is considered \n",
        "# as perimeter (sum of lengths of all edges) \n",
        "# of the triangle \n",
        "def cost(points, i, j, k): \n",
        "    p1 = points[i] \n",
        "    p2 = points[j] \n",
        "    p3 = points[k] \n",
        "    return dist(p1, p2) + dist(p2, p3) + dist(p3, p1) \n",
        "  \n",
        "  \n",
        "# A recursive function to find minimum  \n",
        "# cost of polygon triangulation \n",
        "# The polygon is represented by points[i..j]. \n",
        "def mTC(points, i, j): \n",
        "      \n",
        "    # There must be at least three points between i and j \n",
        "    # (including i and j) \n",
        "    if (j < i + 2): \n",
        "        return 0\n",
        "          \n",
        "    # Initialize result as infinite \n",
        "    res = MAX\n",
        "      \n",
        "    # Find minimum triangulation by considering all \n",
        "    for k in range(i + 1, j): \n",
        "        res = min(res, (mTC(points, i, k) +  \n",
        "                        mTC(points, k, j) +  \n",
        "                        cost(points, i, k, j))) \n",
        "      \n",
        "    return round(res, 4) \n",
        "  \n",
        "  \n",
        "# Driver code \n",
        "points = [[0, 0], [1, 0], [2, 1], [1, 2], [0, 2]] \n",
        "n = len(points) \n",
        "print(mTC(points, 0, n-1))"
      ],
      "execution_count": 4,
      "outputs": [
        {
          "output_type": "stream",
          "text": [
            "15.3006\n"
          ],
          "name": "stdout"
        }
      ]
    }
  ]
}